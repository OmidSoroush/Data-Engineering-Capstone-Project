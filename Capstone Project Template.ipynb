{
 "cells": [
  {
   "cell_type": "markdown",
   "metadata": {},
   "source": [
    "# Project Title\n",
    "### Data Engineering Capstone Project\n",
    "\n",
    "#### Project Summary\n",
    "Twitter data posted about Amazon, Apple, Google, Microsoft, and Tesla, and market value data of these companies will be used to create a database that is optimized to query and analyze. An ETL pipeline is going to be built to create the database.\n",
    "\n",
    "The project follows the follow steps:\n",
    "* Step 1: Scope the Project and Gather Data\n",
    "* Step 2: Explore and Assess the Data\n",
    "* Step 3: Define the Data Model\n",
    "* Step 4: Run ETL to Model the Data\n",
    "* Step 5: Complete Project Write Up"
   ]
  },
  {
   "cell_type": "code",
   "execution_count": 1,
   "metadata": {},
   "outputs": [],
   "source": [
    "# Do all imports and installs here\n",
    "import numpy as np\n",
    "import pandas as pd\n",
    "import datetime\n",
    "import psycopg2\n",
    "from sql_queries import fact_tweet_table_insert, user_table_insert, company_table_insert, value_table_insert, time_table_insert"
   ]
  },
  {
   "cell_type": "markdown",
   "metadata": {},
   "source": [
    "### Step 1: Scope the Project and Gather Data\n",
    "\n",
    "#### Scope \n",
    "A company's market values are affected by different factors. One of the important factors could be the public opinion about that company. This project ist going to analyze the correlation between the market value of company respect to the public opinion of that company. Particularly, this task will try to understand whether negative tweets about companie affect their market values.\n",
    "\n",
    "#### Describe and Gather Data\n",
    "\n",
    "##### Twitter Data\n",
    "This dataset as a part of the paper published in the 2020 IEEE International Conference on Big Data under the 6th Special Session on Intelligent Data Mining track. The dataset contains over 3 million unique tweets with their information such as tweet id, author of the tweet, post date, the text body of the tweet, and the number of comments, likes, and retweets of tweets matched with the related company.\n",
    "\n",
    "##### Company Value Data\n",
    "This dataset contains daily OPEN, CLOSE, VOLUME, HIGH, and LOW values of Amazon, Apple, Google, Microsoft, and Tesla companies as tagged by dates. Values are fetched from the official NASDAQ website.\n",
    "\n",
    "\n",
    "###### Twitter Dataset"
   ]
  },
  {
   "cell_type": "code",
   "execution_count": 2,
   "metadata": {},
   "outputs": [],
   "source": [
    "# Read in the data here\n",
    "path = \"\"\n",
    "tweet = pd.read_csv(\"Tweet.csv\")\n",
    "pd.set_option('display.max_columns', 15)"
   ]
  },
  {
   "cell_type": "code",
   "execution_count": 3,
   "metadata": {},
   "outputs": [
    {
     "data": {
      "text/html": [
       "<div>\n",
       "<style scoped>\n",
       "    .dataframe tbody tr th:only-of-type {\n",
       "        vertical-align: middle;\n",
       "    }\n",
       "\n",
       "    .dataframe tbody tr th {\n",
       "        vertical-align: top;\n",
       "    }\n",
       "\n",
       "    .dataframe thead th {\n",
       "        text-align: right;\n",
       "    }\n",
       "</style>\n",
       "<table border=\"1\" class=\"dataframe\">\n",
       "  <thead>\n",
       "    <tr style=\"text-align: right;\">\n",
       "      <th></th>\n",
       "      <th>tweet_id</th>\n",
       "      <th>writer</th>\n",
       "      <th>post_date</th>\n",
       "      <th>body</th>\n",
       "      <th>comment_num</th>\n",
       "      <th>retweet_num</th>\n",
       "      <th>like_num</th>\n",
       "    </tr>\n",
       "  </thead>\n",
       "  <tbody>\n",
       "    <tr>\n",
       "      <th>0</th>\n",
       "      <td>550441509175443456</td>\n",
       "      <td>VisualStockRSRC</td>\n",
       "      <td>1420070457</td>\n",
       "      <td>lx21 made $10,008  on $AAPL -Check it out! htt...</td>\n",
       "      <td>0</td>\n",
       "      <td>0</td>\n",
       "      <td>1</td>\n",
       "    </tr>\n",
       "    <tr>\n",
       "      <th>1</th>\n",
       "      <td>550441672312512512</td>\n",
       "      <td>KeralaGuy77</td>\n",
       "      <td>1420070496</td>\n",
       "      <td>Insanity of today weirdo massive selling. $aap...</td>\n",
       "      <td>0</td>\n",
       "      <td>0</td>\n",
       "      <td>0</td>\n",
       "    </tr>\n",
       "    <tr>\n",
       "      <th>2</th>\n",
       "      <td>550441732014223360</td>\n",
       "      <td>DozenStocks</td>\n",
       "      <td>1420070510</td>\n",
       "      <td>S&amp;P100 #Stocks Performance $HD $LOW $SBUX $TGT...</td>\n",
       "      <td>0</td>\n",
       "      <td>0</td>\n",
       "      <td>0</td>\n",
       "    </tr>\n",
       "    <tr>\n",
       "      <th>3</th>\n",
       "      <td>550442977802207232</td>\n",
       "      <td>ShowDreamCar</td>\n",
       "      <td>1420070807</td>\n",
       "      <td>$GM $TSLA: Volkswagen Pushes 2014 Record Recal...</td>\n",
       "      <td>0</td>\n",
       "      <td>0</td>\n",
       "      <td>1</td>\n",
       "    </tr>\n",
       "    <tr>\n",
       "      <th>4</th>\n",
       "      <td>550443807834402816</td>\n",
       "      <td>i_Know_First</td>\n",
       "      <td>1420071005</td>\n",
       "      <td>Swing Trading: Up To 8.91% Return In 14 Days h...</td>\n",
       "      <td>0</td>\n",
       "      <td>0</td>\n",
       "      <td>1</td>\n",
       "    </tr>\n",
       "    <tr>\n",
       "      <th>5</th>\n",
       "      <td>550443808606126081</td>\n",
       "      <td>aaplstocknews</td>\n",
       "      <td>1420071005</td>\n",
       "      <td>Swing Trading: Up To 8.91% Return In 14 Days h...</td>\n",
       "      <td>0</td>\n",
       "      <td>0</td>\n",
       "      <td>1</td>\n",
       "    </tr>\n",
       "    <tr>\n",
       "      <th>6</th>\n",
       "      <td>550443809700851716</td>\n",
       "      <td>iknowfirst</td>\n",
       "      <td>1420071005</td>\n",
       "      <td>Swing Trading: Up To 8.91% Return In 14 Days h...</td>\n",
       "      <td>0</td>\n",
       "      <td>0</td>\n",
       "      <td>1</td>\n",
       "    </tr>\n",
       "    <tr>\n",
       "      <th>7</th>\n",
       "      <td>550443857142611968</td>\n",
       "      <td>Cprediction</td>\n",
       "      <td>1420071016</td>\n",
       "      <td>Swing Trading: Up To 8.91% Return In 14 Days h...</td>\n",
       "      <td>0</td>\n",
       "      <td>0</td>\n",
       "      <td>1</td>\n",
       "    </tr>\n",
       "    <tr>\n",
       "      <th>8</th>\n",
       "      <td>550443857595600896</td>\n",
       "      <td>iknowfirst_br</td>\n",
       "      <td>1420071017</td>\n",
       "      <td>Swing Trading: Up To 8.91% Return In 14 Days h...</td>\n",
       "      <td>0</td>\n",
       "      <td>0</td>\n",
       "      <td>1</td>\n",
       "    </tr>\n",
       "    <tr>\n",
       "      <th>9</th>\n",
       "      <td>550443857692078081</td>\n",
       "      <td>Gold_prediction</td>\n",
       "      <td>1420071017</td>\n",
       "      <td>Swing Trading: Up To 8.91% Return In 14 Days h...</td>\n",
       "      <td>0</td>\n",
       "      <td>0</td>\n",
       "      <td>1</td>\n",
       "    </tr>\n",
       "  </tbody>\n",
       "</table>\n",
       "</div>"
      ],
      "text/plain": [
       "             tweet_id           writer   post_date  \\\n",
       "0  550441509175443456  VisualStockRSRC  1420070457   \n",
       "1  550441672312512512      KeralaGuy77  1420070496   \n",
       "2  550441732014223360      DozenStocks  1420070510   \n",
       "3  550442977802207232     ShowDreamCar  1420070807   \n",
       "4  550443807834402816     i_Know_First  1420071005   \n",
       "5  550443808606126081    aaplstocknews  1420071005   \n",
       "6  550443809700851716       iknowfirst  1420071005   \n",
       "7  550443857142611968      Cprediction  1420071016   \n",
       "8  550443857595600896    iknowfirst_br  1420071017   \n",
       "9  550443857692078081  Gold_prediction  1420071017   \n",
       "\n",
       "                                                body  comment_num  \\\n",
       "0  lx21 made $10,008  on $AAPL -Check it out! htt...            0   \n",
       "1  Insanity of today weirdo massive selling. $aap...            0   \n",
       "2  S&P100 #Stocks Performance $HD $LOW $SBUX $TGT...            0   \n",
       "3  $GM $TSLA: Volkswagen Pushes 2014 Record Recal...            0   \n",
       "4  Swing Trading: Up To 8.91% Return In 14 Days h...            0   \n",
       "5  Swing Trading: Up To 8.91% Return In 14 Days h...            0   \n",
       "6  Swing Trading: Up To 8.91% Return In 14 Days h...            0   \n",
       "7  Swing Trading: Up To 8.91% Return In 14 Days h...            0   \n",
       "8  Swing Trading: Up To 8.91% Return In 14 Days h...            0   \n",
       "9  Swing Trading: Up To 8.91% Return In 14 Days h...            0   \n",
       "\n",
       "   retweet_num  like_num  \n",
       "0            0         1  \n",
       "1            0         0  \n",
       "2            0         0  \n",
       "3            0         1  \n",
       "4            0         1  \n",
       "5            0         1  \n",
       "6            0         1  \n",
       "7            0         1  \n",
       "8            0         1  \n",
       "9            0         1  "
      ]
     },
     "execution_count": 3,
     "metadata": {},
     "output_type": "execute_result"
    }
   ],
   "source": [
    "tweet.head(10)"
   ]
  },
  {
   "cell_type": "markdown",
   "metadata": {},
   "source": [
    "###### Market price Data"
   ]
  },
  {
   "cell_type": "code",
   "execution_count": 4,
   "metadata": {},
   "outputs": [],
   "source": [
    "price = pd.read_csv(\"CompanyValues.csv\")"
   ]
  },
  {
   "cell_type": "code",
   "execution_count": 5,
   "metadata": {},
   "outputs": [
    {
     "data": {
      "text/html": [
       "<div>\n",
       "<style scoped>\n",
       "    .dataframe tbody tr th:only-of-type {\n",
       "        vertical-align: middle;\n",
       "    }\n",
       "\n",
       "    .dataframe tbody tr th {\n",
       "        vertical-align: top;\n",
       "    }\n",
       "\n",
       "    .dataframe thead th {\n",
       "        text-align: right;\n",
       "    }\n",
       "</style>\n",
       "<table border=\"1\" class=\"dataframe\">\n",
       "  <thead>\n",
       "    <tr style=\"text-align: right;\">\n",
       "      <th></th>\n",
       "      <th>ticker_symbol</th>\n",
       "      <th>day_date</th>\n",
       "      <th>close_value</th>\n",
       "      <th>volume</th>\n",
       "      <th>open_value</th>\n",
       "      <th>high_value</th>\n",
       "      <th>low_value</th>\n",
       "    </tr>\n",
       "  </thead>\n",
       "  <tbody>\n",
       "    <tr>\n",
       "      <th>0</th>\n",
       "      <td>AAPL</td>\n",
       "      <td>2020-05-29</td>\n",
       "      <td>317.94</td>\n",
       "      <td>38399530</td>\n",
       "      <td>319.25</td>\n",
       "      <td>321.15</td>\n",
       "      <td>316.4700</td>\n",
       "    </tr>\n",
       "    <tr>\n",
       "      <th>1</th>\n",
       "      <td>AAPL</td>\n",
       "      <td>2020-05-28</td>\n",
       "      <td>318.25</td>\n",
       "      <td>33449100</td>\n",
       "      <td>316.77</td>\n",
       "      <td>323.44</td>\n",
       "      <td>315.6300</td>\n",
       "    </tr>\n",
       "    <tr>\n",
       "      <th>2</th>\n",
       "      <td>AAPL</td>\n",
       "      <td>2020-05-27</td>\n",
       "      <td>318.11</td>\n",
       "      <td>28236270</td>\n",
       "      <td>316.14</td>\n",
       "      <td>318.71</td>\n",
       "      <td>313.0900</td>\n",
       "    </tr>\n",
       "    <tr>\n",
       "      <th>3</th>\n",
       "      <td>AAPL</td>\n",
       "      <td>2020-05-26</td>\n",
       "      <td>316.73</td>\n",
       "      <td>31380450</td>\n",
       "      <td>323.50</td>\n",
       "      <td>324.24</td>\n",
       "      <td>316.5000</td>\n",
       "    </tr>\n",
       "    <tr>\n",
       "      <th>4</th>\n",
       "      <td>AAPL</td>\n",
       "      <td>2020-05-22</td>\n",
       "      <td>318.89</td>\n",
       "      <td>20450750</td>\n",
       "      <td>315.77</td>\n",
       "      <td>319.23</td>\n",
       "      <td>315.3500</td>\n",
       "    </tr>\n",
       "    <tr>\n",
       "      <th>5</th>\n",
       "      <td>AAPL</td>\n",
       "      <td>2020-05-21</td>\n",
       "      <td>316.85</td>\n",
       "      <td>25672210</td>\n",
       "      <td>318.66</td>\n",
       "      <td>320.89</td>\n",
       "      <td>315.8700</td>\n",
       "    </tr>\n",
       "    <tr>\n",
       "      <th>6</th>\n",
       "      <td>AAPL</td>\n",
       "      <td>2020-05-20</td>\n",
       "      <td>319.23</td>\n",
       "      <td>27876220</td>\n",
       "      <td>316.68</td>\n",
       "      <td>319.52</td>\n",
       "      <td>316.2000</td>\n",
       "    </tr>\n",
       "    <tr>\n",
       "      <th>7</th>\n",
       "      <td>AAPL</td>\n",
       "      <td>2020-05-19</td>\n",
       "      <td>313.14</td>\n",
       "      <td>25432390</td>\n",
       "      <td>315.03</td>\n",
       "      <td>318.52</td>\n",
       "      <td>313.0100</td>\n",
       "    </tr>\n",
       "    <tr>\n",
       "      <th>8</th>\n",
       "      <td>AAPL</td>\n",
       "      <td>2020-05-18</td>\n",
       "      <td>314.96</td>\n",
       "      <td>33843130</td>\n",
       "      <td>313.17</td>\n",
       "      <td>316.50</td>\n",
       "      <td>310.3241</td>\n",
       "    </tr>\n",
       "    <tr>\n",
       "      <th>9</th>\n",
       "      <td>AAPL</td>\n",
       "      <td>2020-05-15</td>\n",
       "      <td>307.71</td>\n",
       "      <td>41587090</td>\n",
       "      <td>300.35</td>\n",
       "      <td>307.90</td>\n",
       "      <td>300.2100</td>\n",
       "    </tr>\n",
       "  </tbody>\n",
       "</table>\n",
       "</div>"
      ],
      "text/plain": [
       "  ticker_symbol    day_date  close_value    volume  open_value  high_value  \\\n",
       "0          AAPL  2020-05-29       317.94  38399530      319.25      321.15   \n",
       "1          AAPL  2020-05-28       318.25  33449100      316.77      323.44   \n",
       "2          AAPL  2020-05-27       318.11  28236270      316.14      318.71   \n",
       "3          AAPL  2020-05-26       316.73  31380450      323.50      324.24   \n",
       "4          AAPL  2020-05-22       318.89  20450750      315.77      319.23   \n",
       "5          AAPL  2020-05-21       316.85  25672210      318.66      320.89   \n",
       "6          AAPL  2020-05-20       319.23  27876220      316.68      319.52   \n",
       "7          AAPL  2020-05-19       313.14  25432390      315.03      318.52   \n",
       "8          AAPL  2020-05-18       314.96  33843130      313.17      316.50   \n",
       "9          AAPL  2020-05-15       307.71  41587090      300.35      307.90   \n",
       "\n",
       "   low_value  \n",
       "0   316.4700  \n",
       "1   315.6300  \n",
       "2   313.0900  \n",
       "3   316.5000  \n",
       "4   315.3500  \n",
       "5   315.8700  \n",
       "6   316.2000  \n",
       "7   313.0100  \n",
       "8   310.3241  \n",
       "9   300.2100  "
      ]
     },
     "execution_count": 5,
     "metadata": {},
     "output_type": "execute_result"
    }
   ],
   "source": [
    "price.head(10)\n",
    "#len(price)\n",
    "#len(price.volume.unique())"
   ]
  },
  {
   "cell_type": "markdown",
   "metadata": {},
   "source": [
    "### Step 2: Explore and Assess the Data\n",
    "#### Explore the Data \n",
    "\n",
    "first doing some EDA"
   ]
  },
  {
   "cell_type": "code",
   "execution_count": 6,
   "metadata": {},
   "outputs": [
    {
     "name": "stdout",
     "output_type": "stream",
     "text": [
      "Twitter Data\n",
      "Rows: tweet_id       3717964\n",
      "writer         3670691\n",
      "post_date      3717964\n",
      "body           3717964\n",
      "comment_num    3717964\n",
      "retweet_num    3717964\n",
      "like_num       3717964\n",
      "dtype: int64\n",
      "Columns: 7\n",
      "\n",
      "Market Price\n",
      "Rows: ticker_symbol    17528\n",
      "day_date         17528\n",
      "close_value      17528\n",
      "volume           17528\n",
      "open_value       17528\n",
      "high_value       17528\n",
      "low_value        17528\n",
      "dtype: int64\n",
      "Columns: 7\n"
     ]
    }
   ],
   "source": [
    "# EDA\n",
    "print(\"Twitter Data\")\n",
    "twitter_count=tweet.count()\n",
    "print(f\"Rows: {twitter_count}\")\n",
    "print(f\"Columns: {len(tweet.columns)}\")\n",
    "print()\n",
    "print(\"Market Price\")\n",
    "mrkt_price_count=price.count()\n",
    "print(f\"Rows: {mrkt_price_count}\")\n",
    "print(f\"Columns: {len(tweet.columns)}\")"
   ]
  },
  {
   "cell_type": "markdown",
   "metadata": {},
   "source": [
    "#### Cleaning Steps\n",
    "Document steps necessary to clean the data\n",
    "- convert the post_date column to date\n",
    "- check for missing values\n",
    "- check for duplicates values and drop them\n",
    "- add company symbol ticker to tweet data\n",
    "- create unique IDs for writer and symbol ticker columns"
   ]
  },
  {
   "cell_type": "code",
   "execution_count": 7,
   "metadata": {},
   "outputs": [
    {
     "data": {
      "text/html": [
       "<div>\n",
       "<style scoped>\n",
       "    .dataframe tbody tr th:only-of-type {\n",
       "        vertical-align: middle;\n",
       "    }\n",
       "\n",
       "    .dataframe tbody tr th {\n",
       "        vertical-align: top;\n",
       "    }\n",
       "\n",
       "    .dataframe thead th {\n",
       "        text-align: right;\n",
       "    }\n",
       "</style>\n",
       "<table border=\"1\" class=\"dataframe\">\n",
       "  <thead>\n",
       "    <tr style=\"text-align: right;\">\n",
       "      <th></th>\n",
       "      <th>date_time</th>\n",
       "      <th>hour</th>\n",
       "      <th>day</th>\n",
       "      <th>week</th>\n",
       "      <th>month</th>\n",
       "      <th>year</th>\n",
       "      <th>weekday</th>\n",
       "    </tr>\n",
       "  </thead>\n",
       "  <tbody>\n",
       "    <tr>\n",
       "      <th>0</th>\n",
       "      <td>2015-01-01 00:00:57</td>\n",
       "      <td>0</td>\n",
       "      <td>1</td>\n",
       "      <td>1</td>\n",
       "      <td>1</td>\n",
       "      <td>2015</td>\n",
       "      <td>Thursday</td>\n",
       "    </tr>\n",
       "    <tr>\n",
       "      <th>1</th>\n",
       "      <td>2015-01-01 00:01:36</td>\n",
       "      <td>0</td>\n",
       "      <td>1</td>\n",
       "      <td>1</td>\n",
       "      <td>1</td>\n",
       "      <td>2015</td>\n",
       "      <td>Thursday</td>\n",
       "    </tr>\n",
       "    <tr>\n",
       "      <th>2</th>\n",
       "      <td>2015-01-01 00:01:50</td>\n",
       "      <td>0</td>\n",
       "      <td>1</td>\n",
       "      <td>1</td>\n",
       "      <td>1</td>\n",
       "      <td>2015</td>\n",
       "      <td>Thursday</td>\n",
       "    </tr>\n",
       "    <tr>\n",
       "      <th>3</th>\n",
       "      <td>2015-01-01 00:06:47</td>\n",
       "      <td>0</td>\n",
       "      <td>1</td>\n",
       "      <td>1</td>\n",
       "      <td>1</td>\n",
       "      <td>2015</td>\n",
       "      <td>Thursday</td>\n",
       "    </tr>\n",
       "    <tr>\n",
       "      <th>4</th>\n",
       "      <td>2015-01-01 00:10:05</td>\n",
       "      <td>0</td>\n",
       "      <td>1</td>\n",
       "      <td>1</td>\n",
       "      <td>1</td>\n",
       "      <td>2015</td>\n",
       "      <td>Thursday</td>\n",
       "    </tr>\n",
       "  </tbody>\n",
       "</table>\n",
       "</div>"
      ],
      "text/plain": [
       "            date_time  hour  day  week  month  year   weekday\n",
       "0 2015-01-01 00:00:57     0    1     1      1  2015  Thursday\n",
       "1 2015-01-01 00:01:36     0    1     1      1  2015  Thursday\n",
       "2 2015-01-01 00:01:50     0    1     1      1  2015  Thursday\n",
       "3 2015-01-01 00:06:47     0    1     1      1  2015  Thursday\n",
       "4 2015-01-01 00:10:05     0    1     1      1  2015  Thursday"
      ]
     },
     "execution_count": 7,
     "metadata": {},
     "output_type": "execute_result"
    }
   ],
   "source": [
    "# convert the post_date column to date type\n",
    "tweet['post_date'] = pd.to_datetime(tweet['post_date'], unit='s')\n",
    "#tweet['date'].head()\n",
    "\n",
    "time_data = []\n",
    "for element in tweet['post_date']:\n",
    "    time_data.append([element, element.hour, element.day, element.week, element.month, element.year, element.day_name()])\n",
    "column_labels = ('date_time', 'hour', 'day', 'week', 'month', 'year', 'weekday')\n",
    "time_df = pd.DataFrame(time_data, columns=column_labels)\n",
    "time_df.head()"
   ]
  },
  {
   "cell_type": "code",
   "execution_count": 8,
   "metadata": {},
   "outputs": [
    {
     "data": {
      "text/plain": [
       "writer         47273\n",
       "tweet_id           0\n",
       "post_date          0\n",
       "body               0\n",
       "comment_num        0\n",
       "retweet_num        0\n",
       "like_num           0\n",
       "dtype: int64"
      ]
     },
     "execution_count": 8,
     "metadata": {},
     "output_type": "execute_result"
    }
   ],
   "source": [
    "# check for null values in tweet data\n",
    "tweet.isnull().sum().sort_values(ascending = False)"
   ]
  },
  {
   "cell_type": "markdown",
   "metadata": {},
   "source": [
    "The \"writer\" column is the only column with missing data. Since this column is not going to be used in the analysis, I am going to ignore the missings for this column for now."
   ]
  },
  {
   "cell_type": "code",
   "execution_count": 9,
   "metadata": {},
   "outputs": [
    {
     "data": {
      "text/plain": [
       "ticker_symbol    0\n",
       "day_date         0\n",
       "close_value      0\n",
       "volume           0\n",
       "open_value       0\n",
       "high_value       0\n",
       "low_value        0\n",
       "dtype: int64"
      ]
     },
     "execution_count": 9,
     "metadata": {},
     "output_type": "execute_result"
    }
   ],
   "source": [
    "# check for null values in the market price data\n",
    "price.isnull().sum().sort_values(ascending = False)"
   ]
  },
  {
   "cell_type": "code",
   "execution_count": 10,
   "metadata": {},
   "outputs": [
    {
     "data": {
      "text/plain": [
       "0"
      ]
     },
     "execution_count": 10,
     "metadata": {},
     "output_type": "execute_result"
    }
   ],
   "source": [
    "# checking for duplicates values in the tweet data\n",
    "tweet_duplicates = tweet[tweet[\"tweet_id\"].duplicated()]\n",
    "len(tweet_duplicates)"
   ]
  },
  {
   "cell_type": "markdown",
   "metadata": {},
   "source": [
    "##### load the company data that contains company symbol, and merge this data with the tweet dataframe"
   ]
  },
  {
   "cell_type": "code",
   "execution_count": 11,
   "metadata": {},
   "outputs": [],
   "source": [
    "company_symbol = pd.read_csv('Company_Tweet.csv')\n",
    "# check for any duplicates in\n",
    "duplicates_company_symbol = company_symbol[company_symbol[\"tweet_id\"].duplicated()]\n",
    "len(duplicates_company_symbol) # 618481 duplicates\n",
    "# drop duplicates\n",
    "company_symbol.drop_duplicates(subset = [\"tweet_id\"], inplace = True)"
   ]
  },
  {
   "cell_type": "code",
   "execution_count": 12,
   "metadata": {},
   "outputs": [
    {
     "data": {
      "text/plain": [
       "(3717964, 8)"
      ]
     },
     "execution_count": 12,
     "metadata": {},
     "output_type": "execute_result"
    }
   ],
   "source": [
    "# merge company symbol to the tweet data\n",
    "tweets = pd.merge(tweet,company_symbol,on='tweet_id',how='inner')\n",
    "tweets.shape"
   ]
  },
  {
   "cell_type": "code",
   "execution_count": 13,
   "metadata": {},
   "outputs": [
    {
     "name": "stdout",
     "output_type": "stream",
     "text": [
      "Twitter Data\n",
      "AAPL     1425013\n",
      "TSLA      958370\n",
      "AMZN      534008\n",
      "GOOG      312590\n",
      "MSFT      268257\n",
      "GOOGL     219726\n",
      "Name: ticker_symbol, dtype: int64\n",
      "\n",
      "Market Price Data\n"
     ]
    },
    {
     "data": {
      "text/plain": [
       "AAPL     3085\n",
       "MSFT     3085\n",
       "AMZN     3085\n",
       "GOOGL    3085\n",
       "TSLA     3065\n",
       "GOOG     2123\n",
       "Name: ticker_symbol, dtype: int64"
      ]
     },
     "execution_count": 13,
     "metadata": {},
     "output_type": "execute_result"
    }
   ],
   "source": [
    "# count unique values of ticker symbol \n",
    "print(\"Twitter Data\")\n",
    "print(tweets.ticker_symbol.value_counts())\n",
    "print()\n",
    "print(\"Market Price Data\")\n",
    "price.ticker_symbol.value_counts()"
   ]
  },
  {
   "cell_type": "markdown",
   "metadata": {},
   "source": [
    "##### Create unique IDs for writer and symbol ticker column"
   ]
  },
  {
   "cell_type": "code",
   "execution_count": 14,
   "metadata": {},
   "outputs": [
    {
     "data": {
      "text/html": [
       "<div>\n",
       "<style scoped>\n",
       "    .dataframe tbody tr th:only-of-type {\n",
       "        vertical-align: middle;\n",
       "    }\n",
       "\n",
       "    .dataframe tbody tr th {\n",
       "        vertical-align: top;\n",
       "    }\n",
       "\n",
       "    .dataframe thead th {\n",
       "        text-align: right;\n",
       "    }\n",
       "</style>\n",
       "<table border=\"1\" class=\"dataframe\">\n",
       "  <thead>\n",
       "    <tr style=\"text-align: right;\">\n",
       "      <th></th>\n",
       "      <th>tweet_id</th>\n",
       "      <th>writer</th>\n",
       "      <th>post_date</th>\n",
       "      <th>body</th>\n",
       "      <th>comment_num</th>\n",
       "      <th>retweet_num</th>\n",
       "      <th>like_num</th>\n",
       "      <th>ticker_symbol</th>\n",
       "      <th>writer_id</th>\n",
       "      <th>ticker_symbol_id</th>\n",
       "    </tr>\n",
       "  </thead>\n",
       "  <tbody>\n",
       "    <tr>\n",
       "      <th>0</th>\n",
       "      <td>550441509175443456</td>\n",
       "      <td>VisualStockRSRC</td>\n",
       "      <td>2015-01-01 00:00:57</td>\n",
       "      <td>lx21 made $10,008  on $AAPL -Check it out! htt...</td>\n",
       "      <td>0</td>\n",
       "      <td>0</td>\n",
       "      <td>1</td>\n",
       "      <td>AAPL</td>\n",
       "      <td>9577843435</td>\n",
       "      <td>9577843435</td>\n",
       "    </tr>\n",
       "    <tr>\n",
       "      <th>1</th>\n",
       "      <td>550441672312512512</td>\n",
       "      <td>KeralaGuy77</td>\n",
       "      <td>2015-01-01 00:01:36</td>\n",
       "      <td>Insanity of today weirdo massive selling. $aap...</td>\n",
       "      <td>0</td>\n",
       "      <td>0</td>\n",
       "      <td>0</td>\n",
       "      <td>AAPL</td>\n",
       "      <td>5005303368</td>\n",
       "      <td>9577843435</td>\n",
       "    </tr>\n",
       "    <tr>\n",
       "      <th>2</th>\n",
       "      <td>550441732014223360</td>\n",
       "      <td>DozenStocks</td>\n",
       "      <td>2015-01-01 00:01:50</td>\n",
       "      <td>S&amp;P100 #Stocks Performance $HD $LOW $SBUX $TGT...</td>\n",
       "      <td>0</td>\n",
       "      <td>0</td>\n",
       "      <td>0</td>\n",
       "      <td>AMZN</td>\n",
       "      <td>2703301249</td>\n",
       "      <td>5005303368</td>\n",
       "    </tr>\n",
       "    <tr>\n",
       "      <th>3</th>\n",
       "      <td>550442977802207232</td>\n",
       "      <td>ShowDreamCar</td>\n",
       "      <td>2015-01-01 00:06:47</td>\n",
       "      <td>$GM $TSLA: Volkswagen Pushes 2014 Record Recal...</td>\n",
       "      <td>0</td>\n",
       "      <td>0</td>\n",
       "      <td>1</td>\n",
       "      <td>TSLA</td>\n",
       "      <td>2666063943</td>\n",
       "      <td>2703301249</td>\n",
       "    </tr>\n",
       "    <tr>\n",
       "      <th>4</th>\n",
       "      <td>550443807834402816</td>\n",
       "      <td>i_Know_First</td>\n",
       "      <td>2015-01-01 00:10:05</td>\n",
       "      <td>Swing Trading: Up To 8.91% Return In 14 Days h...</td>\n",
       "      <td>0</td>\n",
       "      <td>0</td>\n",
       "      <td>1</td>\n",
       "      <td>AAPL</td>\n",
       "      <td>8171504636</td>\n",
       "      <td>9577843435</td>\n",
       "    </tr>\n",
       "  </tbody>\n",
       "</table>\n",
       "</div>"
      ],
      "text/plain": [
       "             tweet_id           writer           post_date  \\\n",
       "0  550441509175443456  VisualStockRSRC 2015-01-01 00:00:57   \n",
       "1  550441672312512512      KeralaGuy77 2015-01-01 00:01:36   \n",
       "2  550441732014223360      DozenStocks 2015-01-01 00:01:50   \n",
       "3  550442977802207232     ShowDreamCar 2015-01-01 00:06:47   \n",
       "4  550443807834402816     i_Know_First 2015-01-01 00:10:05   \n",
       "\n",
       "                                                body  comment_num  \\\n",
       "0  lx21 made $10,008  on $AAPL -Check it out! htt...            0   \n",
       "1  Insanity of today weirdo massive selling. $aap...            0   \n",
       "2  S&P100 #Stocks Performance $HD $LOW $SBUX $TGT...            0   \n",
       "3  $GM $TSLA: Volkswagen Pushes 2014 Record Recal...            0   \n",
       "4  Swing Trading: Up To 8.91% Return In 14 Days h...            0   \n",
       "\n",
       "   retweet_num  like_num ticker_symbol   writer_id  ticker_symbol_id  \n",
       "0            0         1          AAPL  9577843435        9577843435  \n",
       "1            0         0          AAPL  5005303368        9577843435  \n",
       "2            0         0          AMZN  2703301249        5005303368  \n",
       "3            0         1          TSLA  2666063943        2703301249  \n",
       "4            0         1          AAPL  8171504636        9577843435  "
      ]
     },
     "execution_count": 14,
     "metadata": {},
     "output_type": "execute_result"
    }
   ],
   "source": [
    "# create ids for writer column\n",
    "np.random.seed(1)\n",
    "names = tweets['writer'].unique().tolist()\n",
    "ids = np.random.randint(low=1e9, high=1e10, size = len(names))\n",
    "len(set(ids))\n",
    "maps = {k:v for k,v in zip(names, ids)}\n",
    "tweets['writer_id'] = tweets['writer'].map(maps)\n",
    "\n",
    "# create ids for ticker_symbol column\n",
    "np.random.seed(1)\n",
    "symbol = tweets['ticker_symbol'].unique().tolist()\n",
    "sym_id = np.random.randint(low=1e9, high=1e10, size = len(symbol))\n",
    "len(set(sym_id))\n",
    "mappings = {k:v for k,v in zip(symbol, sym_id)}\n",
    "tweets['ticker_symbol_id'] = tweets['ticker_symbol'].map(mappings)\n",
    "\n",
    "tweets.head()"
   ]
  },
  {
   "cell_type": "markdown",
   "metadata": {},
   "source": [
    "##### giving the same ticker symbol ID to the ticker symbol in price dataset "
   ]
  },
  {
   "cell_type": "code",
   "execution_count": 15,
   "metadata": {},
   "outputs": [
    {
     "data": {
      "text/plain": [
       "ticker_symbol\n",
       "AAPL     [9577843435]\n",
       "AMZN     [5005303368]\n",
       "GOOG     [2666063943]\n",
       "GOOGL    [7590257550]\n",
       "MSFT     [8171504636]\n",
       "TSLA     [2703301249]\n",
       "Name: ticker_symbol_id, dtype: object"
      ]
     },
     "execution_count": 15,
     "metadata": {},
     "output_type": "execute_result"
    }
   ],
   "source": [
    "# create ids for ticker_symbol column in price dataset\n",
    "mappings = {k:v for k,v in zip(tweets[\"ticker_symbol\"].unique(), tweets[\"ticker_symbol_id\"].unique())}\n",
    "price['ticker_symbol_id'] = price['ticker_symbol'].map(mappings)\n",
    "price.groupby(\"ticker_symbol\")[\"ticker_symbol_id\"].unique()"
   ]
  },
  {
   "cell_type": "markdown",
   "metadata": {},
   "source": [
    "### Step 3: Define the Data Model\n",
    "#### 3.1 Conceptual Data Model\n",
    "Map out the conceptual data model and explain why you chose that model\n",
    "\n",
    "#### 3.2 Mapping Out Data Pipelines\n",
    "List the steps necessary to pipeline the data into the chosen data model"
   ]
  },
  {
   "cell_type": "markdown",
   "metadata": {},
   "source": [
    "### Step 4: Run Pipelines to Model the Data \n",
    "#### 4.1 Create the data model\n",
    "Build the data pipelines to create the data model."
   ]
  },
  {
   "cell_type": "code",
   "execution_count": 18,
   "metadata": {},
   "outputs": [],
   "source": [
    "# After running create_tables.py, insert the data into the database\n",
    "conn = psycopg2.connect(\"dbname=capstone user=postgres password=password\")\n",
    "cur = conn.cursor()"
   ]
  },
  {
   "cell_type": "code",
   "execution_count": 19,
   "metadata": {},
   "outputs": [],
   "source": [
    "df_tweet = tweets[[\"tweet_id\", \"post_date\", \"writer_id\", \"ticker_symbol_id\", \"body\", \"comment_num\", \"retweet_num\", \"like_num\"]]\n",
    "\n",
    "for index, row in df_tweet.iterrows():\n",
    "    cur.execute(fact_tweet_table_insert, list(row.values))\n",
    "    conn.commit()"
   ]
  },
  {
   "cell_type": "code",
   "execution_count": 20,
   "metadata": {},
   "outputs": [],
   "source": [
    "df_user = tweets[[\"writer_id\", \"writer\"]]\n",
    "\n",
    "for index, row in df_user.iterrows():\n",
    "    cur.execute(user_table_insert, list(row.values))\n",
    "    conn.commit()"
   ]
  },
  {
   "cell_type": "code",
   "execution_count": 21,
   "metadata": {},
   "outputs": [],
   "source": [
    "df_company = tweets[[\"ticker_symbol_id\", \"ticker_symbol\"]]\n",
    "df_company = df_company.drop_duplicates(subset = [\"ticker_symbol_id\"])\n",
    "\n",
    "for index, row in df_company.iterrows():\n",
    "    cur.execute(company_table_insert, list(row.values))\n",
    "    conn.commit()"
   ]
  },
  {
   "cell_type": "code",
   "execution_count": 22,
   "metadata": {},
   "outputs": [],
   "source": [
    "df_value = price[[\"day_date\", \"volume\", \"open_value\", \"high_value\", \"low_value\", \"ticker_symbol_id\"]]\n",
    "\n",
    "\n",
    "for index, row in df_value.iterrows():\n",
    "    cur.execute(value_table_insert, list(row.values))\n",
    "    conn.commit()"
   ]
  },
  {
   "cell_type": "code",
   "execution_count": 24,
   "metadata": {},
   "outputs": [],
   "source": [
    "df_time = time_df[[\"date_time\", \"hour\", \"day\", \"week\", \"month\", \"year\", \"weekday\"]]\n",
    "\n",
    "for index, row in df_time.iterrows():\n",
    "    cur.execute(time_table_insert, list(row.values))\n",
    "    conn.commit()"
   ]
  },
  {
   "cell_type": "markdown",
   "metadata": {},
   "source": [
    "#### 4.2 Data Quality Checks\n",
    "Explain the data quality checks you'll perform to ensure the pipeline ran as expected. These could include:\n",
    " * Integrity constraints on the relational database (e.g., unique key, data type, etc.)\n",
    " * Unit tests for the scripts to ensure they are doing the right thing\n",
    " * Source/Count checks to ensure completeness\n",
    " \n",
    "Run Quality Checks"
   ]
  },
  {
   "cell_type": "code",
   "execution_count": 26,
   "metadata": {},
   "outputs": [],
   "source": [
    "# Perform quality checks here\n",
    "cur.execute(\"SELECT COUNT(*) FROM tweets\")\n",
    "conn.commit()\n",
    "if cur.rowcount < 1:\n",
    "    print(\"No data found in table tweets\")\n",
    "    \n",
    "cur.execute(\"SELECT COUNT(*) FROM users\")\n",
    "conn.commit()\n",
    "if cur.rowcount < 1:\n",
    "    print(\"No data found in table users\")\n",
    "    \n",
    "cur.execute(\"SELECT COUNT(*) FROM time\")\n",
    "conn.commit()\n",
    "if cur.rowcount < 1:\n",
    "    print(\"No data found in table time\")\n",
    "    \n",
    "cur.execute(\"SELECT COUNT(*) FROM value\")\n",
    "conn.commit()\n",
    "if cur.rowcount < 1:\n",
    "    print(\"No data found in table value\")"
   ]
  },
  {
   "cell_type": "markdown",
   "metadata": {},
   "source": [
    "#### 4.3 Data dictionary \n",
    "Create a data dictionary for your data model. For each field, provide a brief description of what the data is and where it came from. You can include the data dictionary in the notebook or in a separate file."
   ]
  },
  {
   "cell_type": "markdown",
   "metadata": {},
   "source": [
    "#### Step 5: Complete Project Write Up\n",
    "* Clearly state the rationale for the choice of tools and technologies for the project.\n",
    "* Propose how often the data should be updated and why.\n",
    "* Write a description of how you would approach the problem differently under the following scenarios:\n",
    " * The data was increased by 100x.\n",
    " * The data populates a dashboard that must be updated on a daily basis by 7am every day.\n",
    " * The database needed to be accessed by 100+ people."
   ]
  }
 ],
 "metadata": {
  "kernelspec": {
   "display_name": "Python 3",
   "language": "python",
   "name": "python3"
  },
  "language_info": {
   "codemirror_mode": {
    "name": "ipython",
    "version": 3
   },
   "file_extension": ".py",
   "mimetype": "text/x-python",
   "name": "python",
   "nbconvert_exporter": "python",
   "pygments_lexer": "ipython3",
   "version": "3.8.8"
  }
 },
 "nbformat": 4,
 "nbformat_minor": 4
}
